{
 "cells": [
  {
   "cell_type": "markdown",
   "metadata": {},
   "source": [
    "***Структуры данных. Связные списки***"
   ]
  },
  {
   "cell_type": "markdown",
   "metadata": {},
   "source": [
    "**Структура данных** - это контейнер для организации, хранения и обработки информации."
   ]
  },
  {
   "cell_type": "markdown",
   "metadata": {},
   "source": [
    "**Связный список** - это последовательность связанных друг с другом объектов в оперативной памяти. Каждый такой объект называется **ячейкой**, **элементом** или **узлом** и состоит из двух частей: данных и ссылки на другую ячейку (обычно следующую)."
   ]
  },
  {
   "cell_type": "markdown",
   "metadata": {},
   "source": [
    "Однонаправленный связный список:"
   ]
  },
  {
   "cell_type": "code",
   "execution_count": 1,
   "metadata": {},
   "outputs": [
    {
     "name": "stdout",
     "output_type": "stream",
     "text": [
      "75\n",
      "12\n"
     ]
    }
   ],
   "source": [
    "class Node:\n",
    "    def __init__(self, value=None, next_node=None):\n",
    "        self.value = value\n",
    "        self.next_node = next_node\n",
    "\n",
    "    def __str__(self):\n",
    "        return str(self.value)\n",
    "\n",
    "node1 = Node(75)\n",
    "\n",
    "node2 = Node(12)\n",
    "node1.next_node = node2\n",
    "\n",
    "node3 = Node(28)\n",
    "node2.next_node = node3\n",
    "\n",
    "node4 = Node(6)\n",
    "node3.next_node = node4\n",
    "\n",
    "print(node1.value)\n",
    "print(node1.next_node.value)"
   ]
  },
  {
   "cell_type": "markdown",
   "metadata": {},
   "source": [
    "Работа через класс List:"
   ]
  },
  {
   "cell_type": "code",
   "execution_count": 2,
   "metadata": {},
   "outputs": [
    {
     "name": "stdout",
     "output_type": "stream",
     "text": [
      "[75, 12, 28, 6]\n"
     ]
    }
   ],
   "source": [
    "class Node:\n",
    "    def __init__(self, value=None, next_node=None):\n",
    "        self.next_node = next_node\n",
    "        self.value = value\n",
    "\n",
    "    def __str__(self):\n",
    "        return str(self.value)\n",
    "\n",
    "class List:\n",
    "    def __init__(self):\n",
    "        # Ссылка на первый элемент.\n",
    "        self.head = None\n",
    "\n",
    "    def append(self, value):\n",
    "        \"\"\"\n",
    "        Добавление нового элемента в конец связного списка.\n",
    "        Время работы O(N).\n",
    "        \"\"\"\n",
    "\n",
    "        # Если нет первого элемента, то создаем и завершаем работу.\n",
    "        if self.head is None:\n",
    "            self.head = Node(value)\n",
    "            return\n",
    "\n",
    "        # Перебираем по очереди все элементы, чтобы найти последний\n",
    "        current = self.head\n",
    "        while current.next_node is not None:\n",
    "            current = current.next_node\n",
    "\n",
    "        # Создаем ссылку для последнего элемента на новый\n",
    "        current.next_node = Node(value)\n",
    "\n",
    "    def __str__(self):\n",
    "        \"\"\"\n",
    "        Возвращает все элементы связного списка в виде строки.\n",
    "        \"\"\"\n",
    "        current = self.head\n",
    "        values = \"[\"\n",
    "\n",
    "        while current is not None:\n",
    "            end = \", \" if current.next_node else \"\"\n",
    "            values += str(current) + end\n",
    "            current = current.next_node\n",
    "\n",
    "        return values + \"]\"\n",
    "\n",
    "\n",
    "lst = List()\n",
    "lst.append(75)\n",
    "lst.append(12)\n",
    "lst.append(28)\n",
    "lst.append(6)\n",
    "print(lst)"
   ]
  }
 ],
 "metadata": {
  "kernelspec": {
   "display_name": "Python 3",
   "language": "python",
   "name": "python3"
  },
  "language_info": {
   "codemirror_mode": {
    "name": "ipython",
    "version": 3
   },
   "file_extension": ".py",
   "mimetype": "text/x-python",
   "name": "python",
   "nbconvert_exporter": "python",
   "pygments_lexer": "ipython3",
   "version": "3.11.4"
  }
 },
 "nbformat": 4,
 "nbformat_minor": 2
}
