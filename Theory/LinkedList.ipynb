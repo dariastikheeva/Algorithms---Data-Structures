{
 "cells": [
  {
   "cell_type": "markdown",
   "metadata": {},
   "source": [
    "***Структуры данных. Связные списки***"
   ]
  },
  {
   "cell_type": "markdown",
   "metadata": {},
   "source": [
    "**Структура данных** - это контейнер для организации, хранения и обработки информации."
   ]
  },
  {
   "cell_type": "markdown",
   "metadata": {},
   "source": [
    "**Связный список** - это последовательность связанных друг с другом объектов в оперативной памяти. Каждый такой объект называется **ячейкой**, **элементом** или **узлом** и состоит из двух частей: данных и ссылки на другую ячейку (обычно следующую)."
   ]
  },
  {
   "cell_type": "markdown",
   "metadata": {},
   "source": [
    "**<ins>Однонаправленный связный список</ins>**"
   ]
  },
  {
   "cell_type": "code",
   "execution_count": 1,
   "metadata": {},
   "outputs": [
    {
     "name": "stdout",
     "output_type": "stream",
     "text": [
      "75\n",
      "12\n"
     ]
    }
   ],
   "source": [
    "class Node:\n",
    "    def __init__(self, value=None, next_node=None):\n",
    "        self.value = value\n",
    "        self.next_node = next_node\n",
    "\n",
    "    def __str__(self):\n",
    "        return str(self.value)\n",
    "\n",
    "node1 = Node(75)\n",
    "\n",
    "node2 = Node(12)\n",
    "node1.next_node = node2\n",
    "\n",
    "node3 = Node(28)\n",
    "node2.next_node = node3\n",
    "\n",
    "node4 = Node(6)\n",
    "node3.next_node = node4\n",
    "\n",
    "print(node1.value)\n",
    "print(node1.next_node.value)"
   ]
  },
  {
   "cell_type": "markdown",
   "metadata": {},
   "source": [
    "Работа через класс List:"
   ]
  },
  {
   "cell_type": "code",
   "execution_count": 1,
   "metadata": {},
   "outputs": [
    {
     "name": "stdout",
     "output_type": "stream",
     "text": [
      "[75, 12, 28, 6]\n"
     ]
    }
   ],
   "source": [
    "class Node:\n",
    "    def __init__(self, value=None, next_node=None):\n",
    "        self.next_node = next_node\n",
    "        self.value = value\n",
    "\n",
    "    def __str__(self):\n",
    "        return str(self.value)\n",
    "\n",
    "class List:\n",
    "    def __init__(self):\n",
    "        # Ссылка на первый элемент.\n",
    "        self.head = None\n",
    "\n",
    "    def append(self, value):\n",
    "        \"\"\"\n",
    "        Добавление нового элемента в конец связного списка.\n",
    "        Время работы O(N).\n",
    "        \"\"\"\n",
    "\n",
    "        # Если нет первого элемента, то создаем и завершаем работу.\n",
    "        if self.head is None:\n",
    "            self.head = Node(value)\n",
    "            return\n",
    "\n",
    "        # Перебираем по очереди все элементы, чтобы найти последний\n",
    "        current = self.head\n",
    "        while current.next_node is not None:\n",
    "            current = current.next_node\n",
    "\n",
    "        # Создаем ссылку для последнего элемента на новый\n",
    "        current.next_node = Node(value)\n",
    "\n",
    "    def __str__(self):\n",
    "        \"\"\"\n",
    "        Возвращает все элементы связного списка в виде строки.\n",
    "        \"\"\"\n",
    "        current = self.head\n",
    "        values = \"[\"\n",
    "\n",
    "        while current is not None:\n",
    "            end = \", \" if current.next_node else \"\"\n",
    "            values += str(current) + end\n",
    "            current = current.next_node\n",
    "\n",
    "        return values + \"]\"\n",
    "\n",
    "\n",
    "lst = List()\n",
    "lst.append(75)\n",
    "lst.append(12)\n",
    "lst.append(28)\n",
    "lst.append(6)\n",
    "print(lst)"
   ]
  },
  {
   "cell_type": "markdown",
   "metadata": {},
   "source": [
    "**Добавление ячеек**"
   ]
  },
  {
   "cell_type": "markdown",
   "metadata": {},
   "source": [
    "Чтобы упростить код выше, можно заменить ссылку на первый элемент (head) на **ограничитель** top, который всегда будет пустым. Это позволит нам убрать блок кода с проверкой на self.head, а в следующем блоке заменить head на top, после чего у нас получится универсальный код для добавления ячейки в связный список."
   ]
  },
  {
   "cell_type": "markdown",
   "metadata": {},
   "source": [
    "Сейчас для добавления нового элемента в конец списка наш код сначала перебирает все узлы без возможности досрочного завершения. Чтобы это исправить, можно добавить в наш класс атрибут tail, который будет ссылаться на конечный элемент списка."
   ]
  },
  {
   "cell_type": "markdown",
   "metadata": {},
   "source": [
    "Наконец, можно реалзовать метод для вставки элемента в начало списка."
   ]
  },
  {
   "cell_type": "markdown",
   "metadata": {},
   "source": [
    "**Удаление ячеек**"
   ]
  },
  {
   "cell_type": "markdown",
   "metadata": {},
   "source": [
    "Интересное: при реализации метода для удаления ячейки из связаного списка нам не нужно буквально прописывать ее удаление, достаточно просто перестать на нее ссылаться. Как только на ячейку больше не ведет ни одна ссылка, сборщик мусора самостоятельно ее удаляет."
   ]
  },
  {
   "cell_type": "code",
   "execution_count": 2,
   "metadata": {},
   "outputs": [],
   "source": [
    "class Node:\n",
    "    \"\"\"\n",
    "    Класс ячейки\n",
    "    \"\"\"\n",
    "    def __init__(self, value=None, next_node=None):\n",
    "        self.next_node = next_node\n",
    "        self.value = value\n",
    "\n",
    "    def __str__(self):\n",
    "        return str(self.value)\n",
    "\n",
    "\n",
    "class List:\n",
    "    \"\"\"\n",
    "    Класс для работы со списком\n",
    "    \"\"\"\n",
    "    def __init__(self):\n",
    "        # Ограничитель.\n",
    "        self.top = Node()\n",
    "\n",
    "    def append(self, value):\n",
    "        \"\"\"\n",
    "        Добавление нового элемента в конец связного списка.\n",
    "        Время работы O(N).\n",
    "        \"\"\"\n",
    "\n",
    "        # Перебираем по очереди все элементы, чтобы найти последний\n",
    "        current = self.top\n",
    "        while current.next_node is not None:\n",
    "            current = current.next_node\n",
    "\n",
    "        # Создаем ссылку для последнего элемента на новый\n",
    "        current.next_node = Node(value)\n",
    "\n",
    "    def delete(self, value):\n",
    "        \"\"\"\n",
    "        Удаление элемента по значению.\n",
    "        Время работы O(N).\n",
    "        \"\"\"\n",
    "\n",
    "        # Задаем текущий и предыдущие элементы.\n",
    "        current = self.top.next_node\n",
    "        prev = self.top\n",
    "\n",
    "        # Перебираем элементы и ищем тот, который надо удалить\n",
    "        while current is not None:\n",
    "            if current.value == value:\n",
    "                # Если нашли, то просто меняем ссылку.\n",
    "                prev.next_node = current.next_node\n",
    "                return\n",
    "\n",
    "            # Обновляем текущий и предыдущий элементы.\n",
    "            prev = current\n",
    "            current = current.next_node\n",
    "\n",
    "    def __str__(self):\n",
    "        \"\"\"\n",
    "        Возвращает все элементы связного списка в виде строки.\n",
    "        \"\"\"\n",
    "        current = self.top.next_node\n",
    "        values = \"[\"\n",
    "\n",
    "        while current is not None:\n",
    "            end = \", \" if current.next_node else \"\"\n",
    "            values += str(current) + end\n",
    "            current = current.next_node\n",
    "\n",
    "        return values + \"]\""
   ]
  },
  {
   "cell_type": "markdown",
   "metadata": {},
   "source": [
    "**<ins>Двунаправленный связный список</ins>**"
   ]
  },
  {
   "cell_type": "code",
   "execution_count": 7,
   "metadata": {},
   "outputs": [
    {
     "name": "stdout",
     "output_type": "stream",
     "text": [
      "[75, 12, 28, 6]\n",
      "[75, 750, 12, 120, 28, 280, 6]\n"
     ]
    }
   ],
   "source": [
    "class Node:\n",
    "    def __init__(self, value=None, next_node=None, prev_node=None):\n",
    "        self.value = value\n",
    "        self.next_node = next_node\n",
    "        self.prev_node = prev_node\n",
    "\n",
    "    def __str__(self):\n",
    "        return str(self.value)\n",
    "    \n",
    "class List:\n",
    "    '''\n",
    "    Двунаправленный связный список\n",
    "    '''\n",
    "\n",
    "    def __init__(self):\n",
    "\n",
    "        # Ограничитель\n",
    "        self.top = Node()\n",
    "\n",
    "    def append(self, value):\n",
    "        '''\n",
    "        Добавление нового элемента в конец списка.\n",
    "        Время работы: O(N).\n",
    "        '''\n",
    "        # Находим последний элемент\n",
    "        current = self.top\n",
    "        while current.next_node is not None:\n",
    "            current = current.next_node\n",
    "\n",
    "        # Создаем новую ячейку\n",
    "        new_node = Node(value)\n",
    "\n",
    "        # Вставляем новую ячейку после current и делаем обратную ссылку\n",
    "        current.next_node, new_node.prev_node = new_node, current\n",
    "\n",
    "    def insert(self, after_value, value):\n",
    "        '''\n",
    "        Добавление нового элемента в список после ячейки after_value.\n",
    "        Время работы: O(N).\n",
    "        '''\n",
    "\n",
    "        current = self.top.next_node\n",
    "        while current is not None:\n",
    "            if current.value == after_value:\n",
    "                new_node = Node(value, current.next_node, current)\n",
    "\n",
    "                if current.next_node:\n",
    "                    current.next_node.prev_node = new_node\n",
    "                    current.next_node = new_node\n",
    "                    return\n",
    "            \n",
    "            current = current.next_node\n",
    "\n",
    "\n",
    "    def __str__(self):\n",
    "        \"\"\"\n",
    "        Возвращает все элементы связного списка в виде строки.\n",
    "        \"\"\"\n",
    "        current = self.top.next_node\n",
    "        values = \"[\"\n",
    "\n",
    "        while current is not None:\n",
    "            end = \", \" if current.next_node else \"\"\n",
    "            values += str(current) + end\n",
    "            current = current.next_node\n",
    "\n",
    "        return values + \"]\"\n",
    "\n",
    "lst = List()\n",
    "lst.append(75)\n",
    "lst.append(12)\n",
    "lst.append(28)\n",
    "lst.append(6)\n",
    "print(lst)\n",
    "lst.insert(75, 750)\n",
    "lst.insert(12, 120)\n",
    "lst.insert(28, 280)\n",
    "lst.insert(6, 60)\n",
    "print(lst)      "
   ]
  },
  {
   "cell_type": "code",
   "execution_count": null,
   "metadata": {},
   "outputs": [],
   "source": []
  },
  {
   "cell_type": "code",
   "execution_count": null,
   "metadata": {},
   "outputs": [],
   "source": []
  }
 ],
 "metadata": {
  "kernelspec": {
   "display_name": "Python 3",
   "language": "python",
   "name": "python3"
  },
  "language_info": {
   "codemirror_mode": {
    "name": "ipython",
    "version": 3
   },
   "file_extension": ".py",
   "mimetype": "text/x-python",
   "name": "python",
   "nbconvert_exporter": "python",
   "pygments_lexer": "ipython3",
   "version": "3.12.6"
  }
 },
 "nbformat": 4,
 "nbformat_minor": 2
}
