{
 "cells": [
  {
   "cell_type": "markdown",
   "metadata": {},
   "source": [
    "***Массивы***"
   ]
  },
  {
   "cell_type": "markdown",
   "metadata": {},
   "source": [
    "**<ins>Линейный массив</ins>**"
   ]
  },
  {
   "cell_type": "markdown",
   "metadata": {},
   "source": [
    "Особенность связных списков: ячейки памяти, в которых хранятся данные о каждом элементе списка, разбросаны хаотично (не находятся рядом друг с другом).\n",
    "\n",
    "Особенность массивов: занимают **непрерывные** области в оперативной памяти; можно осуществлять доступ к элементам массива по индексу."
   ]
  },
  {
   "cell_type": "markdown",
   "metadata": {},
   "source": [
    "Массивы, которые имеют строго фиксированные размеры, называют **статическими**. В таких массивах можно размещать только ограниченное количество элементов."
   ]
  },
  {
   "cell_type": "markdown",
   "metadata": {},
   "source": [
    "Если нам заранее не известно количество элементов в массиве, можно использовать **динамические** массивы. Они автоматически увеличиваются при их заполнении.\n",
    "\n",
    "Это связано с определенными затратами. Например, если мы хотим добавить 2 значения в массив, но в оперативной памяти справа свободна только одна ячейка, программе сперва нужно найти подходящее место в оперативной памяти и зарезервировать его. Далее происходит копирование элементов текущего массива, после - добавление новых элементов. В самом конце память, выделенная под первоначальный массив, освобождается."
   ]
  },
  {
   "cell_type": "markdown",
   "metadata": {},
   "source": [
    "**NB!** В Python при добавлении элементов списки увеличиваются не на один элемент, а на несколько, с запасом. \n",
    "\n",
    "Пример: если у нас есть массив из 4 элементом и мы хотим добавить еще один, питн выделит 4 свободные ячейки памяти. После их заполненя он выделит еще 8."
   ]
  },
  {
   "cell_type": "markdown",
   "metadata": {},
   "source": [
    "Динамические массивы в Python представлены типом list. Статических массивов в языке Python нет."
   ]
  },
  {
   "cell_type": "markdown",
   "metadata": {},
   "source": [
    "**Базовые алгоритмы над массивами**"
   ]
  },
  {
   "cell_type": "code",
   "execution_count": null,
   "metadata": {},
   "outputs": [],
   "source": [
    "class Array(object):\n",
    "    def __init__(self, *args):\n",
    "        self.items = [*args]\n",
    "        self.index = 0  # индекс на котором находится массив новосозданный\n",
    "\n",
    "    def __iter__(self):\n",
    "        self.index = 0  # Сброс индекса каждый раз при новой итерации\n",
    "        return self\n",
    "\n",
    "    def __next__(self):\n",
    "        if self.index >= len(self.items):\n",
    "            raise StopIteration\n",
    "        result = self.items[self.index]\n",
    "        self.index += 1\n",
    "        return result\n",
    "\n",
    "    def __getitem__(self, index):\n",
    "        return self.items[index]\n",
    "\n",
    "    def arithmetic_average(self):\n",
    "        return sum(self.items) / len(self.items)\n",
    "\n",
    "    def __add__(self, other):\n",
    "        return Array(*(self.items + other.items))\n",
    "\n",
    "    def __radd__(self, other):\n",
    "        return Array(*(other.items + self.items))\n",
    "\n",
    "    def __mul__(self, other):\n",
    "        if isinstance(other, int):  # Проверка, что other - это число\n",
    "            return Array(*(self.items * other))\n",
    "        raise ValueError(\"Можно умножать только на целое число\")\n",
    "\n",
    "    def __rmul__(self, other):\n",
    "        return self.__mul__(other)  # смысла реализовать заново ту же логику нет, обращаемся к обычному мулу\n",
    "\n",
    "    def __setitem__(self, index, value):\n",
    "        self.items[index] = value\n",
    "\n",
    "    def __str__(self):\n",
    "        return f'Ваш список: {self.items}'\n",
    "\n",
    "    def __del__(self):\n",
    "        print(\n",
    "            f\"Ваш список {self.items} удален\")  # Просто печатаем сообщение об удалении списка. Удаление объекта происходит на самом деле по окончании программы, кстати"
   ]
  }
 ],
 "metadata": {
  "kernelspec": {
   "display_name": "Python 3",
   "language": "python",
   "name": "python3"
  },
  "language_info": {
   "name": "python",
   "version": "3.12.6"
  }
 },
 "nbformat": 4,
 "nbformat_minor": 2
}
