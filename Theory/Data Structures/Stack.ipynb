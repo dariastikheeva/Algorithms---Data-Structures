{
 "cells": [
  {
   "cell_type": "markdown",
   "metadata": {},
   "source": [
    "***Стек***"
   ]
  },
  {
   "cell_type": "markdown",
   "metadata": {},
   "source": [
    "**Стек** - одна из фундаментальных структур данных, представляющих собой последовательность, в которую элементы добавляются и из которой удаляются только с одной стороны."
   ]
  },
  {
   "cell_type": "markdown",
   "metadata": {},
   "source": [
    "Визуально стек можно изобразить как трубку с запаенным концом. Помещать шарики в такую трубку и удалять их из нее можно только с одной стороны, при этом **элемент, который мы добавили последним, мы достаем первым**.\n",
    "\n",
    "Такой способ управления данными называется **Last In First Out (LIFO)**."
   ]
  },
  {
   "cell_type": "markdown",
   "metadata": {},
   "source": [
    "Последний добавленный элемент в стеке (его же мы и будем доставать первым) называется **вершиной стека**."
   ]
  },
  {
   "cell_type": "markdown",
   "metadata": {},
   "source": [
    "Операция добавления нового элемента в стек называется **push**. Выполняется она за константное время, так как достаточно только настроить связи."
   ]
  },
  {
   "cell_type": "markdown",
   "metadata": {},
   "source": [
    "Для извлечения верхнего элемента из стека нужно реализовать операцию **pop**. Она также выполняется за время О(1)."
   ]
  },
  {
   "cell_type": "markdown",
   "metadata": {},
   "source": [
    "**<ins>Стек на базе связного списка</ins>**"
   ]
  },
  {
   "cell_type": "markdown",
   "metadata": {},
   "source": [
    "Добавление и удаление элементов из стека легко реализуется на базе связного списка.\n",
    "\n",
    "Преимущества: быстрое добавление и извлечение элементов; динамический размер любой длины."
   ]
  },
  {
   "cell_type": "markdown",
   "metadata": {},
   "source": [
    "Особенность реализации стеков на базе массивов: если в связных списках мы добавляли элементы в начало, то в массивах надо добавлять элементы в конец и удалять из него же. То есть **вершиной стека будет последний элемент массива**, который добавляется и удаляется за время О(1). "
   ]
  },
  {
   "cell_type": "code",
   "execution_count": 1,
   "metadata": {},
   "outputs": [],
   "source": [
    "class Node:\n",
    "    def __init__(self, value):\n",
    "        self.value = value\n",
    "        self.next_node = None\n",
    "\n",
    "    def __str__(self):\n",
    "        return self.value\n",
    "\n",
    "\n",
    "class Stack:\n",
    "    \"\"\"\n",
    "    Стек на базе связного списка.\n",
    "    \"\"\"\n",
    "    def __init__(self):\n",
    "        self.top = Node(None)\n",
    "\n",
    "    def pop(self):\n",
    "        \"\"\"\n",
    "        Извлекает элемент из стека.\n",
    "        \"\"\"\n",
    "        # Получаем верхний элемент\n",
    "        top = self.top.next_node\n",
    "\n",
    "        # Перестраиваем связи и возвращаем значение\n",
    "        if top:\n",
    "            self.top.next_node = top.next_node\n",
    "            return top.value\n",
    "\n",
    "    def push(self, value):\n",
    "        \"\"\"\n",
    "        Добавляет элемент со значением value в стек.\n",
    "        \"\"\"\n",
    "        # Добавляем элемент в начало связного списка\n",
    "        new_node = Node(value)\n",
    "\n",
    "        new_node.next_node = self.top.next_node\n",
    "        self.top.next_node = new_node\n",
    "\n",
    "    def clear(self):\n",
    "        \"\"\"\n",
    "        Очищает стек.\n",
    "        \"\"\"\n",
    "        # Добавьте ваш код тут.\n",
    "        self.top.next_node = None\n",
    "\n",
    "    def peek(self):\n",
    "        \"\"\"\n",
    "        Возвращает значение верхнего элемента без его извлечения из стека.\n",
    "        \"\"\"\n",
    "        # Добавьте ваш код тут.\n",
    "        return self.top.next_node.value if self.top.next_node else None\n",
    "\n",
    "    def count(self):\n",
    "        \"\"\"\n",
    "        Возвращает количество элементов в стеке.\n",
    "        \"\"\"\n",
    "        # Добавьте ваш код тут.\n",
    "        n = 0\n",
    "        current = self.top.next_node\n",
    "\n",
    "        while current:\n",
    "            n += 1\n",
    "            current = current.next_node\n",
    "            \n",
    "        return n\n",
    "            "
   ]
  },
  {
   "cell_type": "markdown",
   "metadata": {},
   "source": [
    "**<ins>Стек на базе статического массива</ins>**"
   ]
  },
  {
   "cell_type": "markdown",
   "metadata": {},
   "source": [
    "Для реализции стека на базе массива нужно просто добавить классу атрибут, отвечающий за вершину стека (**top**). Пока массив пустой, top будет равен -1."
   ]
  },
  {
   "cell_type": "markdown",
   "metadata": {},
   "source": [
    "Вставка и удаление в массиве работают быстрее, чем создание нового элемента связного списка, потому что добавить элемент в уже выделенную ячейку памяти компьютеру проще, чем создать новую. Поэтому если размер стека заранее известен, то лучше использовать массивы."
   ]
  },
  {
   "cell_type": "code",
   "execution_count": null,
   "metadata": {},
   "outputs": [],
   "source": [
    "class Array:\n",
    "    def __init__(self, size):\n",
    "        self.data = [None] * size\n",
    "        self.length = 0\n",
    "        self.size = size\n",
    "\n",
    "    def __str__(self):\n",
    "        \"\"\"\n",
    "        Возвращает все элементы массива в виде строки.\n",
    "        \"\"\"\n",
    "        return \"[\" + \", \".join(map(str, self.data[:self.length])) + \"]\"\n",
    "\n",
    "\n",
    "class Stack(Array):\n",
    "    \"\"\"\n",
    "    Стек на базе статического массива.\n",
    "    \"\"\"\n",
    "\n",
    "    def __init__(self, size):\n",
    "        super().__init__(size)\n",
    "\n",
    "        # Задаем указатель\n",
    "        self.top = -1\n",
    "\n",
    "    def pop(self):\n",
    "        \"\"\"\n",
    "        Извлекает элемент из стека.\n",
    "        \"\"\"\n",
    "        if self.top >= 0:\n",
    "            value = self.data[self.top]\n",
    "            self.top -= 1\n",
    "\n",
    "            # Уменьшаем длину\n",
    "            self.length -= 1\n",
    "\n",
    "            return value\n",
    "\n",
    "    def push(self, value):\n",
    "        \"\"\"\n",
    "        Добавление нового элемента в стек.\n",
    "        \"\"\"\n",
    "        # Проверяем заполненность стека.\n",
    "        if self.top + 1 == self.size:\n",
    "            raise OverflowError\n",
    "\n",
    "        # Смещаем указатель.\n",
    "        self.top += 1\n",
    "\n",
    "        # Увеличиваем длину\n",
    "        self.length += 1\n",
    "\n",
    "        # Добавляем новый элемент.\n",
    "        self.data[self.top] = value\n",
    "\n",
    "    def clear(self):\n",
    "        \"\"\"\n",
    "        Очищает стек.\n",
    "        \"\"\"\n",
    "        # Добавьте ваш код тут.\n",
    "        self.length = 0\n",
    "        self.top = -1\n",
    "\n",
    "    def peek(self):\n",
    "        \"\"\"\n",
    "        Возвращает значение верхнего элемента без его извлечения из стека.\n",
    "        \"\"\"\n",
    "        # Добавьте ваш код тут.\n",
    "        return self.data[self.top] if self.top > -1 else None\n",
    "\n",
    "    def count(self):\n",
    "        \"\"\"\n",
    "        Возвращает количество элементов в стеке.\n",
    "        \"\"\"\n",
    "        # Добавьте ваш код тут.\n",
    "        return self.length\n"
   ]
  },
  {
   "cell_type": "markdown",
   "metadata": {},
   "source": [
    "**<ins>Двойной стек</ins>**"
   ]
  },
  {
   "cell_type": "markdown",
   "metadata": {},
   "source": [
    "Иногда в алгоритмах используются два стека с ограниченным общим размером. В этом случае данные сохраняются в одном массиве с разных сторон:массив заполняется слева направо для левой стороны и справа налево для правой стороны."
   ]
  },
  {
   "cell_type": "code",
   "execution_count": 2,
   "metadata": {},
   "outputs": [],
   "source": [
    "class Array:\n",
    "    def __init__(self, size):\n",
    "        self.data = [None] * size\n",
    "        self.length = 0\n",
    "        self.size = size\n",
    "\n",
    "    def __str__(self):\n",
    "        \"\"\"\n",
    "        Возвращает все элементы массива в виде строки.\n",
    "        \"\"\"\n",
    "        return \"[\" + \", \".join(map(str, self.data[:self.length])) + \"]\"\n",
    "\n",
    "\n",
    "class Stack(Array):\n",
    "    \"\"\"\n",
    "    Двойной стек на базе статического массива.\n",
    "    \"\"\"\n",
    "    def __init__(self, size):\n",
    "        super().__init__(size)\n",
    "\n",
    "        # Вообще по-человечески было бы реализовать это через указатели на вершины стека,\n",
    "        # но мы выберем путь альтушек и создадим атрибуты для длин левого и правого стеков\n",
    "        self._left_length = 0\n",
    "        self._right_length = 0\n",
    "\n",
    "    def pop_left(self):\n",
    "        \"\"\"\n",
    "        Извлекает элемент из стека слева.\n",
    "        \"\"\"\n",
    "        # Добавьте ваш код тут\n",
    "        if self.length and self._left_length:\n",
    "            self.length -= 1\n",
    "            self._left_length -= 1\n",
    "            return self.data[self._left_length]\n",
    "\n",
    "    def pop_right(self):\n",
    "        \"\"\"\n",
    "        Извлекает элемент из стека справа.\n",
    "        \"\"\"\n",
    "        # Добавьте ваш код тут\n",
    "        if self.length and self._right_length:\n",
    "            self.length -= 1\n",
    "            self._right_length -= 1\n",
    "            return self.data[self.size - self._right_length - 1]\n",
    "\n",
    "    def push_left(self, value):\n",
    "        \"\"\"\n",
    "        Добавляет элемент со значением value в стек слева.\n",
    "        \"\"\"\n",
    "        # Добавьте ваш код тут\n",
    "        if self.length == self.size:\n",
    "            raise OverflowError\n",
    "        \n",
    "        self.data[self._left_length] = value\n",
    "        self.length +=1\n",
    "        self._left_length += 1\n",
    "\n",
    "    def push_right(self, value):\n",
    "        \"\"\"\n",
    "        Добавляет элемент со значением value в стек справа.\n",
    "        \"\"\"\n",
    "        # Добавьте ваш код тут\n",
    "        if self.length == self.size:\n",
    "            raise OverflowError\n",
    "        \n",
    "        self.data[self.size - self._right_length - 1] = value\n",
    "        self._right_length += 1\n",
    "        self.length += 1\n",
    "\n",
    "    def clear(self):\n",
    "        \"\"\"\n",
    "        Очищает стек.\n",
    "        \"\"\"\n",
    "        self.length = self._left_length = self._right_length = 0\n",
    "\n",
    "    def __str__(self):\n",
    "        \"\"\"\n",
    "        Возвращает все элементы массива в виде строки.\n",
    "        Используем size, так как массив теперь заполняется с двух сторон.\n",
    "        \"\"\"\n",
    "        return \"[\" + \", \".join(map(str, self.data[:self.size])) + \"]\"\n"
   ]
  },
  {
   "cell_type": "markdown",
   "metadata": {},
   "source": [
    "Если попытаться добавить элемент в полный стек, произойдет переполнение (**stack overflow**).\n",
    "\n",
    "Если мы попытаемся извлечь элемент из пустого стека, произойдет ошибка опустошения (**underflow**). Поэтому перед извлечением неплохо бы проверить, есть ли в стеке элементы. Часто это делают с помощью метода **is_empty**."
   ]
  },
  {
   "cell_type": "markdown",
   "metadata": {},
   "source": [
    "**Область применения стеков**: обход графов, вычисление алгебраических выражений, проверки правильности расстановки скобок."
   ]
  }
 ],
 "metadata": {
  "kernelspec": {
   "display_name": "Python 3",
   "language": "python",
   "name": "python3"
  },
  "language_info": {
   "codemirror_mode": {
    "name": "ipython",
    "version": 3
   },
   "file_extension": ".py",
   "mimetype": "text/x-python",
   "name": "python",
   "nbconvert_exporter": "python",
   "pygments_lexer": "ipython3",
   "version": "3.12.6"
  }
 },
 "nbformat": 4,
 "nbformat_minor": 2
}
