{
 "cells": [
  {
   "cell_type": "markdown",
   "metadata": {},
   "source": [
    "***Массивы***"
   ]
  },
  {
   "cell_type": "markdown",
   "metadata": {},
   "source": [
    "**<ins>Линейный массив</ins>**"
   ]
  },
  {
   "cell_type": "markdown",
   "metadata": {},
   "source": [
    "Особенность связных списков: ячейки памяти, в которых хранятся данные о каждом элементе списка, разбросаны хаотично (не находятся рядом друг с другом).\n",
    "\n",
    "Особенность массивов: занимают **непрерывные** области в оперативной памяти; можно осуществлять доступ к элементам массива по индексу."
   ]
  },
  {
   "cell_type": "markdown",
   "metadata": {},
   "source": [
    "Массивы, которые имеют строго фиксированные размеры, называют **статическими**. В таких массивах можно размещать только ограниченное количество элементов."
   ]
  },
  {
   "cell_type": "markdown",
   "metadata": {},
   "source": [
    "Если нам заранее не известно количество элементов в массиве, можно использовать **динамические** массивы. Они автоматически увеличиваются при их заполнении.\n",
    "\n",
    "Это связано с определенными затратами. Например, если мы хотим добавить 2 значения в массив, но в оперативной памяти справа свободна только одна ячейка, программе сперва нужно найти подходящее место в оперативной памяти и зарезервировать его. Далее происходит копирование элементов текущего массива, после - добавление новых элементов. В самом конце память, выделенная под первоначальный массив, освобождается."
   ]
  },
  {
   "cell_type": "markdown",
   "metadata": {},
   "source": [
    "**NB!** В Python при добавлении элементов списки увеличиваются не на один элемент, а на несколько, с запасом. \n",
    "\n",
    "Пример: если у нас есть массив из 4 элементом и мы хотим добавить еще один, питн выделит 4 свободные ячейки памяти. После их заполненя он выделит еще 8."
   ]
  },
  {
   "cell_type": "markdown",
   "metadata": {},
   "source": [
    "Динамические массивы в Python представлены типом list. Статических массивов в языке Python нет."
   ]
  },
  {
   "cell_type": "markdown",
   "metadata": {},
   "source": [
    "**Базовые алгоритмы над массивами**"
   ]
  },
  {
   "cell_type": "code",
   "execution_count": null,
   "metadata": {},
   "outputs": [],
   "source": [
    "class Array(object):\n",
    "    def __init__(self, *args):\n",
    "        self.items = [*args]\n",
    "        self.index = 0  # индекс на котором находится массив новосозданный\n",
    "\n",
    "    def __iter__(self):\n",
    "        self.index = 0  # Сброс индекса каждый раз при новой итерации\n",
    "        return self\n",
    "\n",
    "    def __next__(self):\n",
    "        if self.index >= len(self.items):\n",
    "            raise StopIteration\n",
    "        result = self.items[self.index]\n",
    "        self.index += 1\n",
    "        return result\n",
    "\n",
    "    def __getitem__(self, index):\n",
    "        return self.items[index]\n",
    "\n",
    "    def arithmetic_average(self):\n",
    "        return sum(self.items) / len(self.items)\n",
    "\n",
    "    def __add__(self, other):\n",
    "        return Array(*(self.items + other.items))\n",
    "\n",
    "    def __radd__(self, other):\n",
    "        return Array(*(other.items + self.items))\n",
    "\n",
    "    def __mul__(self, other):\n",
    "        if isinstance(other, int):  # Проверка, что other - это число\n",
    "            return Array(*(self.items * other))\n",
    "        raise ValueError(\"Можно умножать только на целое число\")\n",
    "\n",
    "    def __rmul__(self, other):\n",
    "        return self.__mul__(other)  # смысла реализовать заново ту же логику нет, обращаемся к обычному мулу\n",
    "\n",
    "    def __setitem__(self, index, value):\n",
    "        self.items[index] = value\n",
    "\n",
    "    def __str__(self):\n",
    "        return f'Ваш список: {self.items}'\n",
    "\n",
    "    def __del__(self):\n",
    "        print(\n",
    "            f\"Ваш список {self.items} удален\")  # Просто печатаем сообщение об удалении списка. Удаление объекта происходит на самом деле по окончании программы, кстати"
   ]
  },
  {
   "cell_type": "markdown",
   "metadata": {},
   "source": [
    "**<ins>Многомерные массивы</ins>**"
   ]
  },
  {
   "cell_type": "markdown",
   "metadata": {},
   "source": [
    "Визуально мы обычно изображаем их в виде прямоугольной структуры, однако в оперативной памяти они так же размещаются в виде непрерывной последовательности ячеек."
   ]
  },
  {
   "cell_type": "markdown",
   "metadata": {},
   "source": [
    "Доступ к элементу массива расчитывается по формуле:\n",
    "\n",
    "*Строка* х *Длина строки* х *Стоблец*"
   ]
  },
  {
   "cell_type": "markdown",
   "metadata": {},
   "source": [
    "Количество памяти, которое необходимо выделить под массив, расчитывается по формуле:\n",
    "\n",
    "*Количество строк* х *Количество столбцов*"
   ]
  },
  {
   "cell_type": "markdown",
   "metadata": {},
   "source": [
    "Формула расчета индекса для трехмерных массивов:\n",
    "\n",
    "*Количество строк* х *Количество столбцов* х *Глубина* + *Строка* х *Длина строки* + *Столбец*"
   ]
  },
  {
   "cell_type": "markdown",
   "metadata": {},
   "source": [
    "**<ins>Треугольные массивы</ins>**"
   ]
  },
  {
   "cell_type": "markdown",
   "metadata": {},
   "source": [
    "Размер треугольного массива:\n",
    "\n",
    "- (N^2 +/- N) / 2"
   ]
  },
  {
   "cell_type": "markdown",
   "metadata": {},
   "source": [
    "Расчет индекса элемента в треугольном массиве:\n",
    "\n",
    "- (r^2 - r) / 2 + c,\n",
    "\n",
    "где r - строка, c - столбец."
   ]
  },
  {
   "cell_type": "code",
   "execution_count": 4,
   "metadata": {},
   "outputs": [
    {
     "name": "stdout",
     "output_type": "stream",
     "text": [
      "\n",
      "0  \n",
      "1  2  \n",
      "3  4  5  \n",
      "6  7  8  9  \n",
      "10 11 12 13 14 \n",
      "15 16 17 18 19 20 \n",
      "21 22 23 24 25 26 27 \n",
      "28 29 30 31 32 33 34 35 \n",
      "36 37 38 39 40 41 42 43 44 \n"
     ]
    }
   ],
   "source": [
    "# Индексы треульного массива без главной диагонали\n",
    "\n",
    "M = 10\n",
    "\n",
    "for r in range(M):\n",
    "    for c in range(M):\n",
    "        if c >= r:\n",
    "            break\n",
    "        i = int((r ** 2 - r) / 2 + c)\n",
    "        print('{:<2}'.format(i), end=' ')\n",
    "    print()"
   ]
  },
  {
   "cell_type": "code",
   "execution_count": null,
   "metadata": {},
   "outputs": [
    {
     "name": "stdout",
     "output_type": "stream",
     "text": [
      "[9]\n"
     ]
    }
   ],
   "source": [
    "class Array:\n",
    "    \"\"\"\n",
    "    Линейный статический массив.\n",
    "    \"\"\"\n",
    "\n",
    "    def __init__(self, size):\n",
    "        # Данные массива, изначально массив пустой и все его элементы заполнены None.\n",
    "        # То есть сразу выделяем массив фиксированного объема.\n",
    "        self.data = [None] * size\n",
    "\n",
    "        # Длина заполненного массива.\n",
    "        # По умолчанию 0, так как массив пустой.\n",
    "        self.length = 0\n",
    "\n",
    "        # Полный размер массива.\n",
    "        self.size = size\n",
    "\n",
    "    def append(self, value):\n",
    "        \"\"\"\n",
    "        Добавление нового элемента в конец линейного массива.\n",
    "        Время работы O(1).\n",
    "        \"\"\"\n",
    "        if self.length == self.size:\n",
    "            raise OverflowError\n",
    "        self.data[self.length] = value\n",
    "        self.length += 1\n",
    "\n",
    "    def min(self):\n",
    "        \"\"\"\n",
    "        Минимальное значение в массиве.\n",
    "        \"\"\"\n",
    "        # Добавьте ваш код тут\n",
    "        # i = 0\n",
    "        # min_value = self.data[0]\n",
    "        # while self.data[i]:\n",
    "        #     if self.data[i] < min_value:\n",
    "        #         min_value = self.data[i]\n",
    "        #     i += 1\n",
    "\n",
    "        # return min_value\n",
    "\n",
    "\n",
    "        min_value = self.data[0]\n",
    "\n",
    "        for i in range(self.length):\n",
    "            if self.data[i] < min_value:\n",
    "                min_value = self.data[i]\n",
    "\n",
    "        return min_value\n",
    "\n",
    "\n",
    "    def max(self):\n",
    "        \"\"\"\n",
    "        Максимальное значение в массиве.\n",
    "        \"\"\"\n",
    "        # Добавьте ваш код тут\n",
    "        # i = 0\n",
    "        # max_value = self.data[0]\n",
    "        # while self.data[i]:\n",
    "        #     if self.data[i] > max_value:\n",
    "        #         max_value = self.data[i]\n",
    "        #     i += 1\n",
    "\n",
    "        # return max_value\n",
    "\n",
    "        max_value = self.data[0]\n",
    "\n",
    "        for i in range(self.length):\n",
    "            if self.data[i] > max_value:\n",
    "                max_value = self.data[i]\n",
    "\n",
    "        return max_value\n",
    "\n",
    "    def avg(self):\n",
    "        \"\"\"\n",
    "        Среднее значение в массиве.\n",
    "        \"\"\"\n",
    "        # Добавьте ваш код тут\n",
    "        # total_sum = 0\n",
    "        # i = 0\n",
    "        # while self.data[i]:\n",
    "        #     total_sum += self.data[i]\n",
    "        #     i += 1\n",
    "\n",
    "        # return total_sum / self.length\n",
    "\n",
    "        total_sum = 0\n",
    "\n",
    "        for i in range(self.length):\n",
    "            total_sum += self.data[i]\n",
    "\n",
    "        return total_sum / self.length\n",
    "\n",
    "    def __str__(self):\n",
    "        \"\"\"\n",
    "        Возвращает все элементы массива в виде строки.\n",
    "        \"\"\"\n",
    "        return \"[\" + \", \".join(map(str, self.data[:self.length])) + \"]\""
   ]
  },
  {
   "cell_type": "code",
   "execution_count": null,
   "metadata": {},
   "outputs": [],
   "source": []
  }
 ],
 "metadata": {
  "kernelspec": {
   "display_name": "Python 3",
   "language": "python",
   "name": "python3"
  },
  "language_info": {
   "codemirror_mode": {
    "name": "ipython",
    "version": 3
   },
   "file_extension": ".py",
   "mimetype": "text/x-python",
   "name": "python",
   "nbconvert_exporter": "python",
   "pygments_lexer": "ipython3",
   "version": "3.11.4"
  }
 },
 "nbformat": 4,
 "nbformat_minor": 2
}
