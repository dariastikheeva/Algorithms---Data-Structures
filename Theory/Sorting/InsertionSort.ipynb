{
 "cells": [
  {
   "cell_type": "markdown",
   "metadata": {},
   "source": [
    "***Сортировка вставками***"
   ]
  },
  {
   "cell_type": "markdown",
   "metadata": {},
   "source": [
    "Время реализации - O(N^2)."
   ]
  },
  {
   "cell_type": "markdown",
   "metadata": {},
   "source": [
    "Общая схема алгоритма:\n",
    "\n",
    "Разделим данный нам массив на две части - отсортированную и неотсортированную. Слева окажется одно число, поскольку массив из одного числа по умолчанию считается отсортированным. Далее мы по очереди берем элементы из правой части и помещаем в правильную позицию в сортированной."
   ]
  },
  {
   "cell_type": "markdown",
   "metadata": {},
   "source": [
    "**7 8 9 4 6 5 10 3 2 1**"
   ]
  },
  {
   "cell_type": "markdown",
   "metadata": {},
   "source": [
    "Для начала возьмем 8 и сравним со всеми элементами отсортированного массива, начиная с конца. Так как 8 больше 7, значит, элемент занимает свое место и ничего делать не нужно. То же самое происходит с 9.\n",
    "\n",
    "Далее рассмотрим 4. Сраниваем с массивом с конца. 9 больше 4, поэтому меняем их местами. И так до конца, пока не получим отсортированный массив."
   ]
  },
  {
   "cell_type": "code",
   "execution_count": 4,
   "metadata": {},
   "outputs": [],
   "source": [
    "def insertionsort(array):\n",
    "    \"\"\"\n",
    "    Сортировка массива array вставками.\n",
    "    \"\"\"\n",
    "\n",
    "    # Перебираем все элементы массива начиная со второго.\n",
    "    i = 1\n",
    "    while i < len(array):\n",
    "        j = i - 1\n",
    "        # Проходим по отсортированной части в обратную строну.\n",
    "        # До тех пор пока значение текущего элемента array[j + 1]\n",
    "        # меньше значения предыдущего array[j].\n",
    "        while array[j + 1] < array[j] and j >= 0:\n",
    "            # Меняем элементы местами.\n",
    "            array[j + 1], array[j] = array[j], array[j + 1]\n",
    "            j -= 1\n",
    "        i += 1"
   ]
  }
 ],
 "metadata": {
  "kernelspec": {
   "display_name": "Python 3",
   "language": "python",
   "name": "python3"
  },
  "language_info": {
   "codemirror_mode": {
    "name": "ipython",
    "version": 3
   },
   "file_extension": ".py",
   "mimetype": "text/x-python",
   "name": "python",
   "nbconvert_exporter": "python",
   "pygments_lexer": "ipython3",
   "version": "3.12.6"
  }
 },
 "nbformat": 4,
 "nbformat_minor": 2
}
