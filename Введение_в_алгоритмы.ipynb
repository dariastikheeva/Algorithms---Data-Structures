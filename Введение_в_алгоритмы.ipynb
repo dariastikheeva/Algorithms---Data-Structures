{
 "cells": [
  {
   "cell_type": "markdown",
   "metadata": {},
   "source": [
    "***Введение в алгоритмы***\n",
    "\n",
    "**<ins>Понятие алгоритма</ins>**\n",
    "\n",
    "**Алгоритм** - набор команд на языке программирования для эффективного выполнения поставленной задачи.\n",
    "\n",
    "Характеристика (свойства) алгоритма:\n",
    "\n",
    "- Скорость\n",
    "- Требование к памяти\n",
    "- Правильность\n",
    "- Надежность\n",
    "- Эффективность"
   ]
  },
  {
   "cell_type": "markdown",
   "metadata": {},
   "source": [
    "**<ins>Сложные проценты</ins>**\n",
    "\n",
    "Используем цикл"
   ]
  },
  {
   "cell_type": "code",
   "execution_count": 1,
   "metadata": {},
   "outputs": [],
   "source": [
    "def compound(amount, year_percent, months):\n",
    "    \"\"\"\n",
    "    Вычисление сложных процентов. Сложность O(N).\n",
    "    \"\"\"\n",
    "    month_percent = year_percent / 12\n",
    "\n",
    "    for month in range(months):\n",
    "        inc = amount / 100 * month_percent\n",
    "        amount += inc\n",
    "\n",
    "    return amount"
   ]
  },
  {
   "cell_type": "markdown",
   "metadata": {},
   "source": [
    "Используем математическую формулу"
   ]
  },
  {
   "cell_type": "code",
   "execution_count": 2,
   "metadata": {},
   "outputs": [],
   "source": [
    "def compound(amount, year_percent, months):\n",
    "    \"\"\"\n",
    "    Вычисление сложных процентов. Сложность O(1).\n",
    "    \"\"\"\n",
    "    month_percent = year_percent / 12\n",
    "    return amount * (1 + month_percent / 100) ** months"
   ]
  },
  {
   "cell_type": "markdown",
   "metadata": {},
   "source": [
    "**<ins>Линейный поиск</ins>**"
   ]
  },
  {
   "cell_type": "code",
   "execution_count": 3,
   "metadata": {},
   "outputs": [],
   "source": [
    "def linear_search(values, target):\n",
    "    \"\"\"\n",
    "    Линейный поиск.\n",
    "    \"\"\"\n",
    "    i = 0\n",
    "\n",
    "    # Перебираем массив в цикле\n",
    "    while i < values.__len__():\n",
    "        # Сравниваем искомое значение с очередным элементом массива.\n",
    "        # Возвращаем значение, если элемент найден.\n",
    "        if values[i] == target:\n",
    "            return i\n",
    "\n",
    "        # Ранний выход если массив отсортирован и текущий элемент больше искомого.\n",
    "        if values[i] > target:\n",
    "            return -1\n",
    "        i += 1\n",
    "\n",
    "    # Возвращаем -1 если элемент не найден.\n",
    "    return -1"
   ]
  },
  {
   "cell_type": "markdown",
   "metadata": {},
   "source": [
    "**<ins>Сортировка выбором</ins>**"
   ]
  },
  {
   "cell_type": "code",
   "execution_count": null,
   "metadata": {},
   "outputs": [
    {
     "name": "stdout",
     "output_type": "stream",
     "text": [
      "[1, 3, 5, 6, 8]\n"
     ]
    }
   ],
   "source": [
    "def selection_sort(values):\n",
    "    \"\"\"\n",
    "    Сортировка выбором.\n",
    "    \"\"\"\n",
    "    # Перебираем все элементы.\n",
    "    for i in range(len(values) - 1):\n",
    "        min_idx = i\n",
    "        # Перебираем оставшиеся элементы.\n",
    "        for j in range(i + 1, len(values)):\n",
    "            # Ищем минимальное значение.\n",
    "            if values[min_idx] > values[j]:\n",
    "                min_idx = j\n",
    "\n",
    "        if i != min_idx:\n",
    "            # Меняем минимальное значение с текущим элементом основного цикла.\n",
    "            values[i], values[min_idx] = values[min_idx], values[i]"
   ]
  },
  {
   "cell_type": "markdown",
   "metadata": {},
   "source": [
    "**<ins>Сложность алгоритма</ins>**\n",
    "\n",
    "**Сложность алгоритма** отражает то, насколько быстро работает алгоритм.\n",
    "\n",
    "Как считать: подсчитывается количество всех операций в программе. Причем для операций внутри цикла число операций умножается на число итерацийю Затем строится функция, описывающая наш алгоритм: зависимость числа операций от числа итераций."
   ]
  },
  {
   "cell_type": "markdown",
   "metadata": {},
   "source": [
    "Для первого алгоритма со сложными процентами:"
   ]
  },
  {
   "cell_type": "code",
   "execution_count": 52,
   "metadata": {},
   "outputs": [],
   "source": [
    "def compound(amount, year_percent, months):\n",
    "    month_percent = year_percent / 12           # (2)\n",
    "\n",
    "    for month in range(months):                 # (1) - функция range   # (1) - i += 1\n",
    "        inc = amount / 100 * month_percent                              # (3)\n",
    "        amount += inc                                                   # (1)\n",
    "\n",
    "    return amount"
   ]
  },
  {
   "cell_type": "markdown",
   "metadata": {},
   "source": [
    "Итого: 3 операции до начала выполнения цикла + 5 операций для каждой итерации. Получается, что наша функция будет выглядеть следующим образом: f(n) = 3 + 5n. Однако на практике нет необходимости подсчитывать каждую операцию в программе и такие функции очищают от незначительных деталей. При анализе сложности важно лишь то, что будет происходить с функцией при значительном увеличении n. Поэтому мы легко можем отбросить те элементы, которые растут медленно или вовсе не растут (такие как 3). Далее, мы можем не обращать внимание на множитель перед n: фактически нет особой разницы, 5 или 10 операций выполняется внутри цикла, важно только количество повторений этих операций.\n",
    "\n",
    "Таким образом, сложность нашего алгоритма будет такой: O(n) = n. Такую сложность называют **линейной**. На практике она считается довольно хорошей."
   ]
  },
  {
   "cell_type": "markdown",
   "metadata": {},
   "source": [
    "Для второго алгоритма со сложными процентами:"
   ]
  },
  {
   "cell_type": "code",
   "execution_count": 53,
   "metadata": {},
   "outputs": [],
   "source": [
    "def compound(amount, year_percent, months):\n",
    "    month_percent = year_percent / 12                       # (2)\n",
    "    return amount * (1 + month_percent / 100) ** months     # (4)"
   ]
  },
  {
   "cell_type": "markdown",
   "metadata": {},
   "source": [
    "В данном случае f(n) = 6. Тут мы шестерку не отбрасываем, а приводим к единице, чтобы показать, что функция не равна нулю.\n",
    "\n",
    "Таким образом, сложность второго алгоритма равна: O(n) = 1. Иными словами, это **константная сложность**. Это означает, что алгоритм всегда будет выполняться за один отрезок времени.\n",
    "\n",
    "**NB!** O(1)-алгоритмы могут быть и долгими, однако, на каком бы наборе данных мы их ни запускали, они всегда будут выполняться за константное время."
   ]
  },
  {
   "cell_type": "markdown",
   "metadata": {},
   "source": [
    "Для алгоритма линейного поиска сложность будет O(n), поскольку мы рассматриваем наихудший сценарий, когда искомая величина находится на последнем месте в списке."
   ]
  },
  {
   "cell_type": "markdown",
   "metadata": {},
   "source": [
    "У алгоритма с одним циклом или более, стоящими подряд (не вложенными друг в друга) сложность равна O(n).\n",
    "\n",
    "У алгоритма со вложенным циклом сложность будет **квадратической**: O(n<sup>2</sup>)."
   ]
  }
 ],
 "metadata": {
  "kernelspec": {
   "display_name": "Python 3",
   "language": "python",
   "name": "python3"
  },
  "language_info": {
   "codemirror_mode": {
    "name": "ipython",
    "version": 3
   },
   "file_extension": ".py",
   "mimetype": "text/x-python",
   "name": "python",
   "nbconvert_exporter": "python",
   "pygments_lexer": "ipython3",
   "version": "3.12.6"
  }
 },
 "nbformat": 4,
 "nbformat_minor": 2
}
